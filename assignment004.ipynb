{
 "cells": [
  {
   "attachments": {},
   "cell_type": "markdown",
   "metadata": {},
   "source": [
    "Q1. Explain Class and Object with respect to Object-Oriented Programming. Give a suitable example."
   ]
  },
  {
   "attachments": {},
   "cell_type": "markdown",
   "metadata": {},
   "source": [
    "ANS: i]class : class can be define as a blueprint of an object it is basically a collection of object which act as a building blocks.class contain data member (variales) and member function , this member function is used to manupulates the data inside the classes."
   ]
  },
  {
   "attachments": {},
   "cell_type": "markdown",
   "metadata": {},
   "source": [
    "ii]Object: object can be define as an entity that has stake and a behaviour or anything that excist physically in the world eg.. a dog,a person ,a table.\n",
    "object is a combination of data and function which further represent an entity."
   ]
  },
  {
   "cell_type": "code",
   "execution_count": 1,
   "metadata": {},
   "outputs": [
    {
     "name": "stdout",
     "output_type": "stream",
     "text": [
      "Ghanshyam 9\n"
     ]
    }
   ],
   "source": [
    "class student:\n",
    "    def __init__(self,name,roll_no,std):\n",
    "        self.name=name\n",
    "        self.roll_no=roll_no\n",
    "        self.std=std\n",
    "student_details=student(\"Ghanshyam\",\"10\",\"9\")\n",
    "print(student_details.name,student_details.std)"
   ]
  },
  {
   "attachments": {},
   "cell_type": "markdown",
   "metadata": {},
   "source": [
    "Q2. Name the four pillars of OOPs."
   ]
  },
  {
   "attachments": {},
   "cell_type": "markdown",
   "metadata": {},
   "source": [
    "ANS : four pillars of OOP are Abstraction ,Encapsulation ,Inheritance and polymorphism.\n",
    "Abstraction : Abstraaction help in data hiding process it help in displaying essential features without showing the details and functionality to the user.It avoid unnecessarey information and irrelivant data and shows only that specific part which user want to see.\n",
    "\n",
    "Encapsulation : The riping up of data and function together in a program is knon as encapsulation .it can be achieve by manking the data member scope private and member function scope public excess this data member.\n",
    "encapsulation make the data non-excessible to the outside the world.\n",
    "\n",
    "Inheritance: Inheritance is a process in which two classes have a is a relation ship with each other and object of one class inherit the property and features of other class.The class who inherite the property and features of other class is know as child class and who's featured and property is Inherited is know as parents class.\n",
    "\n",
    "Polymorphism :polymorphism means many form , it is a ability to take more than one form it is a function that provide function and or an operator with more thsn one defination.  it can be implement by using function overloading,operator overloading,function overwriting and virtual function."
   ]
  },
  {
   "attachments": {},
   "cell_type": "markdown",
   "metadata": {},
   "source": [
    "Q3.Explain why the __init__() function is used. Give a suitable example."
   ]
  },
  {
   "attachments": {},
   "cell_type": "markdown",
   "metadata": {},
   "source": [
    "ANS :The __init__() function is a special method in Python that is used to initialize the attributes of an object when it is created. It is called a constructor method because it is used to construct and initialize the object. The __init__() method is called automatically when an object is created from a class, and it takes self as its first argument, which refers to the object being created. It can also take additional arguments that are used to set the initial values of the attributes."
   ]
  },
  {
   "cell_type": "code",
   "execution_count": 4,
   "metadata": {},
   "outputs": [
    {
     "name": "stdout",
     "output_type": "stream",
     "text": [
      "Ghanshyam 9\n"
     ]
    }
   ],
   "source": [
    "class student:\n",
    "    def __init__(self,name,roll_no,std):\n",
    "        self.name=name\n",
    "        self.roll_no=roll_no\n",
    "        self.std=std\n",
    "student_details=student(\"Ghanshyam\",\"10\",\"9\")\n",
    "print(student_details.name,student_details.std)"
   ]
  },
  {
   "attachments": {},
   "cell_type": "markdown",
   "metadata": {},
   "source": [
    "Q4. Why self is used in OOPs?\n"
   ]
  },
  {
   "attachments": {},
   "cell_type": "markdown",
   "metadata": {},
   "source": [
    "ANS:In OOP, self is a reference to the current instance of a class. It is a special parameter that is used in instance methods to refer to the object that the method is being called on. When a method is called on an object, the object is passed to the method as the first argument, which is represented by self."
   ]
  },
  {
   "attachments": {},
   "cell_type": "markdown",
   "metadata": {},
   "source": [
    "Q5. What is inheritance? Give an example for each type of inheritance."
   ]
  },
  {
   "attachments": {},
   "cell_type": "markdown",
   "metadata": {},
   "source": [
    "ANS: Inheritance is a mechanism in object-oriented programming that allows a new class to be based on an existing class, inheriting its properties and methods.\n",
    "there are five types of Iheritance:\n",
    "1) Single Inheritance\n",
    "2)Multiple Inheritance\n",
    "3)Multi-Level Inheritance\n",
    "4)Hierarchical Inheritance\n",
    "5)Hybrid Inheritance"
   ]
  },
  {
   "attachments": {},
   "cell_type": "markdown",
   "metadata": {},
   "source": [
    "1]Single Inheritance"
   ]
  },
  {
   "cell_type": "code",
   "execution_count": 15,
   "metadata": {},
   "outputs": [
    {
     "name": "stdout",
     "output_type": "stream",
     "text": [
      "I can move.\n",
      "I can bark.\n"
     ]
    }
   ],
   "source": [
    "class Animal:\n",
    "    def move(self):\n",
    "        print(\"I can move.\")\n",
    "\n",
    "class Dog(Animal):\n",
    "    def bark(self):\n",
    "        print(\"I can bark.\")\n",
    "\n",
    "my_dog = Dog()\n",
    "my_dog.move()  \n",
    "my_dog.bark()  \n"
   ]
  },
  {
   "attachments": {},
   "cell_type": "markdown",
   "metadata": {},
   "source": [
    "2]multiple Inheritance"
   ]
  },
  {
   "cell_type": "code",
   "execution_count": 14,
   "metadata": {},
   "outputs": [
    {
     "name": "stdout",
     "output_type": "stream",
     "text": [
      "Starting the vehicle.\n",
      "Revving the engine.\n",
      "Driving the car.\n"
     ]
    }
   ],
   "source": [
    "class Vehicle:\n",
    "    def start(self):\n",
    "        print(\"Starting the vehicle.\")\n",
    "\n",
    "class Engine:\n",
    "    def rev(self):\n",
    "        print(\"Revving the engine.\")\n",
    "\n",
    "class Car(Vehicle, Engine):\n",
    "    def drive(self):\n",
    "        print(\"Driving the car.\")\n",
    "\n",
    "my_car = Car()\n",
    "my_car.start()  \n",
    "my_car.rev()  \n",
    "my_car.drive()  \n"
   ]
  },
  {
   "attachments": {},
   "cell_type": "markdown",
   "metadata": {},
   "source": [
    "3]Multi-level Inheritance"
   ]
  },
  {
   "cell_type": "code",
   "execution_count": 13,
   "metadata": {},
   "outputs": [
    {
     "name": "stdout",
     "output_type": "stream",
     "text": [
      "I can move.\n",
      "I can feed milk.\n"
     ]
    },
    {
     "data": {
      "text/plain": [
       "<__main__.Dog at 0x19bba5dfd30>"
      ]
     },
     "execution_count": 13,
     "metadata": {},
     "output_type": "execute_result"
    }
   ],
   "source": [
    "class Animal:\n",
    "    def move(self):\n",
    "        print(\"I can move.\")\n",
    "\n",
    "class Mammal(Animal):\n",
    "    def feed_milk(self):\n",
    "        print(\"I can feed milk.\")\n",
    "\n",
    "class Dog(Mammal):\n",
    "    def bark(self):\n",
    "        print(\"I can bark.\")\n",
    "\n",
    "my_dog = Dog()\n",
    "my_dog.move() \n",
    "my_dog.feed_milk()  \n",
    "my_dog\n"
   ]
  },
  {
   "attachments": {},
   "cell_type": "markdown",
   "metadata": {},
   "source": [
    "4]Hierarchical Inheritance"
   ]
  },
  {
   "cell_type": "code",
   "execution_count": 12,
   "metadata": {},
   "outputs": [
    {
     "name": "stdout",
     "output_type": "stream",
     "text": [
      "I can move.\n",
      "I can bark.\n",
      "I can move.\n",
      "I can meow.\n"
     ]
    }
   ],
   "source": [
    "class Animal:\n",
    "    def move(self):\n",
    "        print(\"I can move.\")\n",
    "\n",
    "class Dog(Animal):\n",
    "    def bark(self):\n",
    "        print(\"I can bark.\")\n",
    "\n",
    "class Cat(Animal):\n",
    "    def meow(self):\n",
    "        print(\"I can meow.\")\n",
    "\n",
    "my_dog = Dog()\n",
    "my_dog.move()  \n",
    "my_dog.bark()  \n",
    "\n",
    "my_cat = Cat()\n",
    "my_cat.move()  \n",
    "my_cat.meow()  \n"
   ]
  },
  {
   "attachments": {},
   "cell_type": "markdown",
   "metadata": {},
   "source": [
    "5]Hybrid Inheritance"
   ]
  },
  {
   "cell_type": "code",
   "execution_count": 11,
   "metadata": {},
   "outputs": [
    {
     "name": "stdout",
     "output_type": "stream",
     "text": [
      "I can move.\n",
      "I can feed milk.\n",
      "I can fly.\n",
      "I can hunt insects.\n"
     ]
    }
   ],
   "source": [
    "class Animal:\n",
    "    def move(self):\n",
    "        print(\"I can move.\")\n",
    "\n",
    "class Mammal(Animal):\n",
    "    def feed_milk(self):\n",
    "        print(\"I can feed milk.\")\n",
    "\n",
    "class Bird(Animal):\n",
    "    def fly(self):\n",
    "        print(\"I can fly.\")\n",
    "\n",
    "class Bat(Mammal, Bird):\n",
    "    def hunt(self):\n",
    "        print(\"I can hunt insects.\")\n",
    "\n",
    "my_bat = Bat()\n",
    "my_bat.move()\n",
    "my_bat.feed_milk()  \n",
    "my_bat.fly() \n",
    "my_bat.hunt() \n"
   ]
  },
  {
   "cell_type": "code",
   "execution_count": null,
   "metadata": {},
   "outputs": [],
   "source": []
  }
 ],
 "metadata": {
  "kernelspec": {
   "display_name": "base",
   "language": "python",
   "name": "python3"
  },
  "language_info": {
   "codemirror_mode": {
    "name": "ipython",
    "version": 3
   },
   "file_extension": ".py",
   "mimetype": "text/x-python",
   "name": "python",
   "nbconvert_exporter": "python",
   "pygments_lexer": "ipython3",
   "version": "3.10.9"
  },
  "orig_nbformat": 4
 },
 "nbformat": 4,
 "nbformat_minor": 2
}
